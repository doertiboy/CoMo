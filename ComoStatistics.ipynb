{
 "cells": [
  {
   "cell_type": "code",
   "execution_count": 1,
   "id": "9a5a8f2e",
   "metadata": {},
   "outputs": [],
   "source": [
    "from matplotlib import pyplot as plt\n",
    "import sys\n",
    "import numpy as np"
   ]
  },
  {
   "cell_type": "markdown",
   "id": "450f466b",
   "metadata": {},
   "source": [
    "# Data"
   ]
  },
  {
   "cell_type": "code",
   "execution_count": 2,
   "id": "49bf1d45",
   "metadata": {},
   "outputs": [],
   "source": [
    "columns = [\"LED\", \"VIB\", \"BOTH\"]\n",
    "qu_clm = ['like the most', 'easiest', 'best performance']\n",
    "font = 15\n",
    "\n",
    "sens_mean = [938.08, 1350, 965.62]\n",
    "sens_std = [159.31, 477.43, 232.83]\n",
    "sens_coor = [i + 80 for i in sens_mean]\n",
    "sens_values = ['938.08', '1350.00', '965.62']\n",
    "\n",
    "mem_mean = [8.48, 7.03, 8.02]\n",
    "mem_std = [1.65, 1.58, 2.03]\n",
    "mem_coor = [i + 0.5 for i in mem_mean]\n",
    "mem_values = ['8.48', '7.03', '8.02']\n",
    "\n",
    "qu_sens_led = [0.17, 0.42, 0.42]\n",
    "qu_sens_vib = [0.42, 0.08, 0.00]\n",
    "qu_sens_both = [0.42, 0.50, 0.58]\n",
    "\n",
    "qu_mem_led = [0.25, 0.33, 0.50]\n",
    "qu_mem_vib = [0.33, 0.25, 0.42]\n",
    "qu_mem_both = [0.42, 0.42, 0.08]"
   ]
  },
  {
   "cell_type": "markdown",
   "id": "0d020617",
   "metadata": {},
   "source": [
    "# Plot of Testing"
   ]
  },
  {
   "cell_type": "code",
   "execution_count": 3,
   "id": "47f68a75",
   "metadata": {},
   "outputs": [],
   "source": [
    "# Sensitivity\n",
    "# plt.figure(figsize=(10, 8))\n",
    "plt.bar(columns, sens_mean, yerr=sens_std, capsize=6, color=['c', 'green', 'orange'])\n",
    "plt.ylabel(\"average time / ms\")\n",
    "plt.title(\"Sensitivity Test\", fontsize=font)\n",
    "\n",
    "# Displaying values on top of the bars\n",
    "for i, (value, coor) in enumerate(zip(sens_values, sens_coor)):\n",
    "    plt.text(i + 0.1, coor, value, ha='left', va='bottom')\n",
    "\n",
    "#plt.show()    \n",
    "#plt.savefig(r'C:\\\\Users\\\\dorot\\\\Desktop\\\\ComoProject\\\\sens_avg_time.pdf')\n",
    "plt.savefig(r'C:\\Users\\Jasmin\\Dropbox\\Uni_Fächer\\3rd Semester\\Project2\\sens_avg_time.pdf')\n",
    "plt.close()"
   ]
  },
  {
   "cell_type": "code",
   "execution_count": 4,
   "id": "d8b4962b",
   "metadata": {},
   "outputs": [],
   "source": [
    "# Memory\n",
    "# plt.figure(figsize=(10,8))\n",
    "plt.bar(columns, mem_mean, yerr=mem_std, capsize=6, color=['c', 'green', 'orange'])\n",
    "plt.ylabel(\"average level\")\n",
    "plt.title(\"Memory Test\", fontsize=font)\n",
    "\n",
    "# Displaying values on top of the bars\n",
    "for i, (value, coor) in enumerate(zip(mem_values, mem_coor)):\n",
    "    plt.text(i + 0.1, coor, value, ha='left', va='bottom')\n",
    "    \n",
    "#plt.savefig(r'C:\\\\Users\\\\dorot\\\\Desktop\\\\ComoProject\\\\mem_avg_level.pdf')\n",
    "plt.savefig(r'C:\\Users\\Jasmin\\Dropbox\\Uni_Fächer\\3rd Semester\\Project2\\mem_avg_level.pdf')\n",
    "plt.close()"
   ]
  },
  {
   "cell_type": "markdown",
   "id": "a5d96452",
   "metadata": {},
   "source": [
    "# Plot of Questionnaire"
   ]
  },
  {
   "cell_type": "code",
   "execution_count": 8,
   "id": "8e2b400b",
   "metadata": {},
   "outputs": [],
   "source": [
    "x = np.arange(len(columns))\n",
    "\n",
    "# Set up bar width\n",
    "width = 0.25\n",
    "\n",
    "# Plot the bars\n",
    "fig, ax = plt.subplots()\n",
    "bar1 = ax.bar(x - width - 0.01, qu_sens_led, width, label='LED', color='c')\n",
    "bar2 = ax.bar(x, qu_sens_vib, width, label='VIB', color='green')\n",
    "bar3 = ax.bar(x + width + 0.01, qu_sens_both, width, label='BOTH', color='orange')\n",
    "\n",
    "# Add labels on top of each bar\n",
    "def add_labels(bars):\n",
    "    for bar in bars:\n",
    "        height = bar.get_height()\n",
    "        ax.annotate('{:.2f}'.format(round(height, 2)),\n",
    "                    xy=(bar.get_x() + bar.get_width() / 2, height),\n",
    "                    xytext=(0, 3),  # 3 points vertical offset\n",
    "                    textcoords=\"offset points\",\n",
    "                    ha='center', va='bottom')\n",
    "\n",
    "add_labels(bar1)\n",
    "add_labels(bar2)\n",
    "add_labels(bar3)\n",
    "\n",
    "# Set up labels and title\n",
    "ax.set_title('Survey Sensitivity', fontsize=font)\n",
    "ax.set_xticks(x)\n",
    "ax.set_xticklabels(qu_clm)\n",
    "ax.set_ylabel('participants / %')\n",
    "ax.legend()\n",
    "\n",
    "# Adjust y-axis limits to add space at the top\n",
    "ax.set_ylim(top=max(max(qu_sens_led), max(qu_sens_vib), max(qu_sens_both)) + 0.1)\n",
    "\n",
    "#plt.show()\n",
    "#plt.savefig(r'C:\\\\Users\\\\dorot\\\\Desktop\\\\ComoProject\\\\sens_questionnaire.pdf')\n",
    "plt.savefig(r'C:\\Users\\Jasmin\\Dropbox\\Uni_Fächer\\3rd Semester\\Project2\\sens_questionnaire.pdf')\n",
    "plt.close()"
   ]
  },
  {
   "cell_type": "code",
   "execution_count": 9,
   "id": "4846b4d0",
   "metadata": {},
   "outputs": [],
   "source": [
    "x = np.arange(len(columns))\n",
    "\n",
    "# Set up bar width\n",
    "width = 0.25\n",
    "\n",
    "# Plot the bars\n",
    "fig, ax = plt.subplots()\n",
    "bar1 = ax.bar(x - width - 0.01, qu_mem_led, width, label='LED', color='c')\n",
    "bar2 = ax.bar(x, qu_mem_vib, width, label='VIB', color='green')\n",
    "bar3 = ax.bar(x + width + 0.01, qu_mem_both, width, label='BOTH', color='orange')\n",
    "\n",
    "# Add labels on top of each bar\n",
    "def add_labels(bars):\n",
    "    for bar in bars:\n",
    "        height = bar.get_height()\n",
    "        ax.annotate('{:.2f}'.format(round(height, 2)),\n",
    "                    xy=(bar.get_x() + bar.get_width() / 2, height),\n",
    "                    xytext=(0, 3),  # 3 points vertical offset\n",
    "                    textcoords=\"offset points\",\n",
    "                    ha='center', va='bottom')\n",
    "\n",
    "add_labels(bar1)\n",
    "add_labels(bar2)\n",
    "add_labels(bar3)\n",
    "\n",
    "# Set up labels and title\n",
    "ax.set_title('Survey Memory', fontsize=font)\n",
    "ax.set_xticks(x)\n",
    "ax.set_xticklabels(qu_clm)\n",
    "ax.set_ylabel('participants / %')\n",
    "ax.legend()\n",
    "\n",
    "# Adjust y-axis limits to add space at the top\n",
    "ax.set_ylim(top=max(max(qu_mem_led), max(qu_mem_vib), max(qu_mem_both)) + 0.1)\n",
    "\n",
    "#plt.savefig(r'C:\\\\Users\\\\dorot\\\\Desktop\\\\ComoProject\\\\mem_questionnaire.pdf')\n",
    "plt.savefig(r'C:\\Users\\Jasmin\\Dropbox\\Uni_Fächer\\3rd Semester\\Project2\\mem_questionnaire.pdf')\n",
    "plt.close()"
   ]
  }
 ],
 "metadata": {
  "kernelspec": {
   "display_name": "Python 3 (ipykernel)",
   "language": "python",
   "name": "python3"
  },
  "language_info": {
   "codemirror_mode": {
    "name": "ipython",
    "version": 3
   },
   "file_extension": ".py",
   "mimetype": "text/x-python",
   "name": "python",
   "nbconvert_exporter": "python",
   "pygments_lexer": "ipython3",
   "version": "3.11.5"
  }
 },
 "nbformat": 4,
 "nbformat_minor": 5
}
